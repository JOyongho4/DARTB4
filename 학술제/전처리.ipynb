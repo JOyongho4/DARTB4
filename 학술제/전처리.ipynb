{
 "cells": [
  {
   "cell_type": "markdown",
   "metadata": {},
   "source": [
    "# 불러오기"
   ]
  },
  {
   "cell_type": "code",
   "execution_count": 1,
   "metadata": {},
   "outputs": [],
   "source": [
    "# 데이터 처리\n",
    "import pandas as pd\n",
    "import numpy as np\n",
    "\n",
    "# 시각화\n",
    "import matplotlib.pyplot as plt\n",
    "import seaborn as sns\n",
    "\n",
    "# 사이킷런: 전처리\n",
    "from sklearn.preprocessing import LabelEncoder, StandardScaler, MinMaxScaler\n",
    "\n",
    "# 사이킷런: 모델 선택 및 평가\n",
    "from sklearn.model_selection import train_test_split, GridSearchCV, RandomizedSearchCV, cross_val_score\n",
    "from sklearn.metrics import classification_report, confusion_matrix, accuracy_score, precision_score, recall_score, f1_score, roc_auc_score, average_precision_score\n",
    "\n",
    "# 사이킷런: 대표 모델\n",
    "from sklearn.linear_model import LogisticRegression\n",
    "from sklearn.ensemble import RandomForestClassifier, GradientBoostingClassifier\n",
    "from sklearn.svm import SVC\n",
    "from sklearn.tree import DecisionTreeClassifier\n",
    "from sklearn.naive_bayes import GaussianNB\n",
    "\n",
    "# 부스팅 계열 모델\n",
    "from xgboost import XGBClassifier\n",
    "from lightgbm import LGBMClassifier\n",
    "from catboost import CatBoostClassifier\n",
    "\n",
    "# 기타 (필요 시)\n",
    "import warnings\n",
    "warnings.filterwarnings('ignore')\n",
    "\n",
    "# 시각화 설정\n",
    "import matplotlib.pyplot as plt\n",
    "import seaborn as sns\n",
    "\n",
    "sns.set_style(\"whitegrid\")  # seaborn 스타일 설정\n",
    "plt.rcParams['font.family'] = 'AppleGothic'  # Mac용 한글 폰트, Windows는 'Malgun Gothic'\n",
    "plt.rcParams['axes.unicode_minus'] = False  # 마이너스 깨짐 방지\n"
   ]
  },
  {
   "cell_type": "code",
   "execution_count": 2,
   "metadata": {},
   "outputs": [],
   "source": [
    "fatigue_df = pd.read_csv('/Users/joyongho/Desktop/code folder/merged_최종최종_Total_IP.csv')"
   ]
  },
  {
   "cell_type": "markdown",
   "metadata": {},
   "source": [
    "# 칼럼 수정"
   ]
  },
  {
   "cell_type": "code",
   "execution_count": 107,
   "metadata": {},
   "outputs": [],
   "source": [
    "# 30이닝 미만 선수 전부 제거\n",
    "\n",
    "fatigue_df = fatigue_df[fatigue_df['Total_IP'] >= 30]"
   ]
  },
  {
   "cell_type": "code",
   "execution_count": 109,
   "metadata": {},
   "outputs": [],
   "source": [
    "# 칼럼 제거\n",
    "fatigue_df.drop(columns=['Dec', 'Stadium','커터_피안타율','커브_피안타율','슬라_피안타율','첸접_피안타율','싱커_피안타율','포크_피안타율','너클_피안타율','기타_피안타율','BirthYear','Opp','GS','Time'], inplace=True)"
   ]
  },
  {
   "cell_type": "markdown",
   "metadata": {},
   "source": [
    "직구 피안타율 생성"
   ]
  },
  {
   "cell_type": "code",
   "execution_count": 110,
   "metadata": {},
   "outputs": [],
   "source": [
    "# 포심_구사율과 투심_구사율이 모두 0인 행 제거\n",
    "fatigue_df = fatigue_df[~((fatigue_df['포심_구사율'] == 0) & (fatigue_df['투심_구사율'] == 0))]"
   ]
  },
  {
   "cell_type": "code",
   "execution_count": 111,
   "metadata": {},
   "outputs": [],
   "source": [
    "fatigue_df['직구_피안타율'] = (fatigue_df['포심_피안타율'] * fatigue_df['포심_구사율'] + fatigue_df['투심_피안타율'] * fatigue_df['투심_구사율']) / (fatigue_df['포심_구사율'] + fatigue_df['투심_구사율'])"
   ]
  },
  {
   "cell_type": "code",
   "execution_count": 114,
   "metadata": {},
   "outputs": [],
   "source": [
    "fatigue_df.drop(columns=['포심_피안타율','투심_피안타율'], inplace=True)"
   ]
  },
  {
   "cell_type": "markdown",
   "metadata": {},
   "source": [
    "직구 구사율 생성"
   ]
  },
  {
   "cell_type": "code",
   "execution_count": 115,
   "metadata": {},
   "outputs": [],
   "source": [
    "fatigue_df['직구_구사율'] = (fatigue_df['포심_구사율'] + fatigue_df['투심_구사율'])"
   ]
  },
  {
   "cell_type": "code",
   "execution_count": 116,
   "metadata": {},
   "outputs": [],
   "source": [
    "fatigue_df.drop(columns=['포심_구사율','투심_구사율'], inplace=True)"
   ]
  },
  {
   "cell_type": "markdown",
   "metadata": {},
   "source": [
    "변화구 구사율 생성"
   ]
  },
  {
   "cell_type": "code",
   "execution_count": 118,
   "metadata": {},
   "outputs": [],
   "source": [
    "fatigue_df['변화구_구사율'] = 100 - fatigue_df['직구_구사율']"
   ]
  },
  {
   "cell_type": "code",
   "execution_count": 119,
   "metadata": {},
   "outputs": [],
   "source": [
    "fatigue_df.drop(columns=['커터_구사율','커브_구사율','슬라_구사율',\n",
    "                     '첸접_구사율','싱커_구사율',\n",
    "                     '포크_구사율','너클_구사율','기타_구사율'], inplace=True)"
   ]
  },
  {
   "cell_type": "code",
   "execution_count": null,
   "metadata": {},
   "outputs": [],
   "source": [
    "# fatigue_df.to_csv('/Users/joyongho/Desktop/code folder/피로도_df.csv', index=False)"
   ]
  },
  {
   "cell_type": "markdown",
   "metadata": {},
   "source": [
    "# WHIP 문제 해결 df + 거리 df 병합"
   ]
  },
  {
   "cell_type": "code",
   "execution_count": 150,
   "metadata": {},
   "outputs": [],
   "source": [
    "# WHIP 해결 csv, 거리 해결 csv 불러오기\n",
    "fatigue_df = pd.read_csv('/Users/joyongho/Desktop/code folder/피로도_df_보간완료.csv',encoding='utf-8-sig', parse_dates=['Date'])\n",
    "distance_df = pd.read_csv('/Users/joyongho/Desktop/code folder/kbo_team_total_distances.csv',encoding='utf-8-sig', parse_dates=['날짜_정렬'])"
   ]
  },
  {
   "cell_type": "code",
   "execution_count": 152,
   "metadata": {},
   "outputs": [],
   "source": [
    "# distance_df의 컬럼명을 fatigue_df와 맞게 변경\n",
    "distance_df_renamed = distance_df.rename(columns={\n",
    "    '연도': 'Year',\n",
    "    '구단': 'Team',\n",
    "    '날짜_정렬': 'Date'\n",
    "})"
   ]
  },
  {
   "cell_type": "code",
   "execution_count": 153,
   "metadata": {},
   "outputs": [],
   "source": [
    "# fatigue_df에 distance 정보 병합\n",
    "merged_df = pd.merge(\n",
    "    fatigue_df,\n",
    "    distance_df_renamed,\n",
    "    how='left',\n",
    "    on=['Year', 'Team', 'Date']\n",
    ")"
   ]
  },
  {
   "cell_type": "code",
   "execution_count": 161,
   "metadata": {},
   "outputs": [
    {
     "data": {
      "text/plain": [
       "Index(['Name', 'Year', 'Team', 'Date', 'Role', 'ERA', 'WHIP', 'IP', 'NP', 'R',\n",
       "       'ER', 'H', 'HR', 'SO', 'BB', 'HB', 'Venue', 'Temp', '연투 여부', '휴식일 수',\n",
       "       '연투일', '2023WBC', '2021올림픽', '2023아시안게임', '2023아시아프로야구챔피언십',\n",
       "       '2023 아시아 야구 선수권 대회', '2019프리미어12', 'PS_KS', 'PS_PO', 'PS_SP', 'PS_V',\n",
       "       'PS_WC', 'Height', 'Weight', 'Age', '총이동거리', '전체구속', '2Seam', '4Seam',\n",
       "       'Cutter', 'Curve', 'Slider', 'Changeup', 'Sinker', 'Forkball',\n",
       "       'Knuckle', 'Other', '누적_IP', 'FIP', 'GSv2', 'avg_GSv2', 'delta_GSv2',\n",
       "       'Total_IP', '직구_피안타율', '직구_구사율', '변화구_구사율', 'WHIP_missing_flag', '날짜',\n",
       "       '구장', '월', '일', '이동거리(km)', '누적이동거리(km)'],\n",
       "      dtype='object')"
      ]
     },
     "execution_count": 161,
     "metadata": {},
     "output_type": "execute_result"
    }
   ],
   "source": [
    "merged_df.columns"
   ]
  },
  {
   "cell_type": "code",
   "execution_count": 162,
   "metadata": {},
   "outputs": [],
   "source": [
    "# distance 관련 컬럼 제거\n",
    "merged_df = merged_df.drop(columns=['구장', '월','일', '날짜'])"
   ]
  },
  {
   "cell_type": "code",
   "execution_count": 165,
   "metadata": {},
   "outputs": [],
   "source": [
    "fatigue_df = merged_df"
   ]
  },
  {
   "cell_type": "code",
   "execution_count": null,
   "metadata": {},
   "outputs": [],
   "source": [
    "# fatigue_df.to_csv('/Users/joyongho/Desktop/code folder/fatigue_df_거리완료.csv', index=False)"
   ]
  },
  {
   "cell_type": "code",
   "execution_count": null,
   "metadata": {},
   "outputs": [],
   "source": []
  }
 ],
 "metadata": {
  "kernelspec": {
   "display_name": "venv",
   "language": "python",
   "name": "python3"
  },
  "language_info": {
   "codemirror_mode": {
    "name": "ipython",
    "version": 3
   },
   "file_extension": ".py",
   "mimetype": "text/x-python",
   "name": "python",
   "nbconvert_exporter": "python",
   "pygments_lexer": "ipython3",
   "version": "3.11.12"
  }
 },
 "nbformat": 4,
 "nbformat_minor": 2
}
