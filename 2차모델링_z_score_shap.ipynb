{
 "cells": [
  {
   "cell_type": "code",
   "execution_count": 255,
   "metadata": {},
   "outputs": [],
   "source": [
    "# 데이터 처리\n",
    "import pandas as pd\n",
    "import numpy as np\n",
    "\n",
    "# 시각화\n",
    "import matplotlib.pyplot as plt\n",
    "import seaborn as sns\n",
    "\n",
    "# 사이킷런: 전처리\n",
    "from sklearn.preprocessing import LabelEncoder, StandardScaler, MinMaxScaler\n",
    "\n",
    "# 사이킷런: 모델 선택 및 평가\n",
    "from sklearn.model_selection import train_test_split, GridSearchCV, RandomizedSearchCV, cross_val_score\n",
    "from sklearn.metrics import classification_report, confusion_matrix, accuracy_score, precision_score, recall_score, f1_score, roc_auc_score, average_precision_score\n",
    "\n",
    "# 사이킷런: 대표 모델\n",
    "from sklearn.linear_model import LogisticRegression\n",
    "from sklearn.ensemble import RandomForestClassifier, GradientBoostingClassifier\n",
    "from sklearn.svm import SVC\n",
    "from sklearn.tree import DecisionTreeClassifier\n",
    "from sklearn.naive_bayes import GaussianNB\n",
    "\n",
    "# 부스팅 계열 모델\n",
    "from xgboost import XGBClassifier\n",
    "from lightgbm import LGBMClassifier\n",
    "from catboost import CatBoostClassifier\n",
    "\n",
    "# 기타 (필요 시)\n",
    "import warnings\n",
    "warnings.filterwarnings('ignore')\n",
    "\n",
    "# 시각화 설정\n",
    "import matplotlib.pyplot as plt\n",
    "import seaborn as sns\n",
    "\n",
    "sns.set_style(\"whitegrid\")  # seaborn 스타일 설정\n",
    "plt.rcParams['font.family'] = 'AppleGothic'  # Mac용 한글 폰트, Windows는 'Malgun Gothic'\n",
    "plt.rcParams['axes.unicode_minus'] = False  # 마이너스 깨짐 방지"
   ]
  },
  {
   "cell_type": "code",
   "execution_count": 256,
   "metadata": {},
   "outputs": [],
   "source": [
    "fatigue_df = pd.read_csv('/Users/joyongho/Desktop/code folder/fatigue_df_delta_ERA.csv')"
   ]
  },
  {
   "cell_type": "code",
   "execution_count": 257,
   "metadata": {},
   "outputs": [],
   "source": [
    "# 결측치 드랍\n",
    "fatigue_df.dropna(inplace=True)"
   ]
  },
  {
   "cell_type": "markdown",
   "metadata": {},
   "source": [
    "## 신체 기량 PCA"
   ]
  },
  {
   "cell_type": "markdown",
   "metadata": {},
   "source": [
    "### 주성분 1개 설명력 : 59.59%"
   ]
  },
  {
   "cell_type": "markdown",
   "metadata": {},
   "source": [
    "### GPT 피셜 그래도 SHAP해라"
   ]
  },
  {
   "cell_type": "code",
   "execution_count": 258,
   "metadata": {},
   "outputs": [
    {
     "data": {
      "text/html": [
       "<div>\n",
       "<style scoped>\n",
       "    .dataframe tbody tr th:only-of-type {\n",
       "        vertical-align: middle;\n",
       "    }\n",
       "\n",
       "    .dataframe tbody tr th {\n",
       "        vertical-align: top;\n",
       "    }\n",
       "\n",
       "    .dataframe thead th {\n",
       "        text-align: right;\n",
       "    }\n",
       "</style>\n",
       "<table border=\"1\" class=\"dataframe\">\n",
       "  <thead>\n",
       "    <tr style=\"text-align: right;\">\n",
       "      <th></th>\n",
       "      <th>변수</th>\n",
       "      <th>VIF</th>\n",
       "    </tr>\n",
       "  </thead>\n",
       "  <tbody>\n",
       "    <tr>\n",
       "      <th>0</th>\n",
       "      <td>const</td>\n",
       "      <td>26.029452</td>\n",
       "    </tr>\n",
       "    <tr>\n",
       "      <th>1</th>\n",
       "      <td>ERA</td>\n",
       "      <td>2.491147</td>\n",
       "    </tr>\n",
       "    <tr>\n",
       "      <th>2</th>\n",
       "      <td>WHIP</td>\n",
       "      <td>2.495516</td>\n",
       "    </tr>\n",
       "    <tr>\n",
       "      <th>3</th>\n",
       "      <td>직구_피안타율</td>\n",
       "      <td>1.006558</td>\n",
       "    </tr>\n",
       "  </tbody>\n",
       "</table>\n",
       "</div>"
      ],
      "text/plain": [
       "        변수        VIF\n",
       "0    const  26.029452\n",
       "1      ERA   2.491147\n",
       "2     WHIP   2.495516\n",
       "3  직구_피안타율   1.006558"
      ]
     },
     "metadata": {},
     "output_type": "display_data"
    }
   ],
   "source": [
    "from statsmodels.stats.outliers_influence import variance_inflation_factor\n",
    "from statsmodels.tools.tools import add_constant\n",
    "import pandas as pd\n",
    "\n",
    "# 1. 사용할 기량 변수\n",
    "skill_features = ['ERA', 'WHIP', '직구_피안타율']\n",
    "\n",
    "# 2. 결측치 제거\n",
    "X_skill = fatigue_df[skill_features].dropna()\n",
    "\n",
    "# 3. 상수항 추가\n",
    "X_skill_const = add_constant(X_skill)\n",
    "\n",
    "# 4. VIF 계산\n",
    "vif_skill = pd.DataFrame()\n",
    "vif_skill['변수'] = X_skill_const.columns\n",
    "vif_skill['VIF'] = [variance_inflation_factor(X_skill_const.values, i) for i in range(X_skill_const.shape[1])]\n",
    "\n",
    "display(vif_skill)\n"
   ]
  },
  {
   "cell_type": "code",
   "execution_count": 259,
   "metadata": {},
   "outputs": [],
   "source": [
    "from sklearn.preprocessing import StandardScaler\n",
    "from sklearn.decomposition import PCA\n",
    "\n",
    "# 1. 선수 기량 변수\n",
    "skill_vars = ['ERA', 'WHIP', '직구_피안타율']\n",
    "X_skill = fatigue_df[skill_vars].dropna()\n",
    "\n",
    "# 2. 표준화 (PCA 전에 꼭 필요)\n",
    "scaler = StandardScaler()\n",
    "X_scaled = scaler.fit_transform(X_skill)\n",
    "\n",
    "# 3. PCA 주성분 1개 추출\n",
    "pca = PCA(n_components=1)\n",
    "PC1 = pca.fit_transform(X_scaled)\n",
    "\n",
    "# 4. 결과 추가\n",
    "fatigue_df.loc[X_skill.index, '기량_PC1'] = PC1[:, 0]\n"
   ]
  },
  {
   "cell_type": "code",
   "execution_count": 260,
   "metadata": {},
   "outputs": [
    {
     "name": "stdout",
     "output_type": "stream",
     "text": [
      "기량_PC1 설명력: 59.59%\n"
     ]
    }
   ],
   "source": [
    "print(f\"기량_PC1 설명력: {pca.explained_variance_ratio_[0]:.2%}\")\n"
   ]
  },
  {
   "cell_type": "code",
   "execution_count": 261,
   "metadata": {},
   "outputs": [
    {
     "name": "stdout",
     "output_type": "stream",
     "text": [
      "PC1 설명력: 59.59%\n",
      "PC2 설명력: 32.87%\n",
      "총 설명력: 92.46%\n"
     ]
    }
   ],
   "source": [
    "from sklearn.preprocessing import StandardScaler\n",
    "from sklearn.decomposition import PCA\n",
    "\n",
    "# 1. 사용할 기량 변수\n",
    "skill_vars = ['ERA', 'WHIP', '직구_피안타율']\n",
    "X_skill = fatigue_df[skill_vars].dropna()\n",
    "\n",
    "# 2. 표준화\n",
    "scaler = StandardScaler()\n",
    "X_scaled = scaler.fit_transform(X_skill)\n",
    "\n",
    "# 3. PCA (2개 주성분)\n",
    "pca = PCA(n_components=2)\n",
    "X_pca = pca.fit_transform(X_scaled)\n",
    "\n",
    "# 4. 결과 저장\n",
    "fatigue_df.loc[X_skill.index, '기량_PC1'] = X_pca[:, 0]\n",
    "fatigue_df.loc[X_skill.index, '기량_PC2'] = X_pca[:, 1]\n",
    "\n",
    "# 5. 설명력 출력\n",
    "print(f\"PC1 설명력: {pca.explained_variance_ratio_[0]:.2%}\")\n",
    "print(f\"PC2 설명력: {pca.explained_variance_ratio_[1]:.2%}\")\n",
    "print(f\"총 설명력: {pca.explained_variance_ratio_.sum():.2%}\")\n"
   ]
  },
  {
   "cell_type": "markdown",
   "metadata": {},
   "source": [
    "# Z-score"
   ]
  },
  {
   "cell_type": "code",
   "execution_count": 262,
   "metadata": {},
   "outputs": [],
   "source": [
    "#%pip install shap"
   ]
  },
  {
   "cell_type": "markdown",
   "metadata": {},
   "source": [
    "### 외부환경지수 z-score, SHAP 가중치"
   ]
  },
  {
   "cell_type": "code",
   "execution_count": 263,
   "metadata": {},
   "outputs": [],
   "source": [
    "# Venue_bin: Home = 1, Away = 0\n",
    "fatigue_df['Venue_bin'] = fatigue_df['Venue'].map({'Home': 1, 'Away': 0})"
   ]
  },
  {
   "cell_type": "code",
   "execution_count": 264,
   "metadata": {},
   "outputs": [],
   "source": [
    "env_vars = ['누적이동거리', 'Temp', 'Venue_bin']\n",
    "\n",
    "from sklearn.preprocessing import StandardScaler\n",
    "\n",
    "# z-score 변환\n",
    "scaler = StandardScaler()\n",
    "env_z = scaler.fit_transform(fatigue_df[env_vars])\n",
    "\n",
    "# 표준화된 결과 저장\n",
    "env_z_df = pd.DataFrame(env_z, columns=[f\"{col}_z\" for col in env_vars])\n",
    "fatigue_df = pd.concat([fatigue_df.reset_index(drop=True), env_z_df], axis=1)\n",
    "\n",
    "# 평균 기반 환경지수 생성\n",
    "fatigue_df['환경지수_z'] = env_z_df.mean(axis=1)"
   ]
  },
  {
   "cell_type": "code",
   "execution_count": 265,
   "metadata": {},
   "outputs": [
    {
     "data": {
      "text/plain": [
       "<catboost.core.CatBoostRegressor at 0x164fb30d0>"
      ]
     },
     "execution_count": 265,
     "metadata": {},
     "output_type": "execute_result"
    }
   ],
   "source": [
    "from catboost import CatBoostRegressor\n",
    "from sklearn.model_selection import train_test_split\n",
    "import shap\n",
    "\n",
    "# 타깃 및 피처 설정\n",
    "target = 'delta_GSv2'\n",
    "env_z_cols = [f\"{col}_z\" for col in env_vars]\n",
    "\n",
    "X_env = fatigue_df[env_z_cols]\n",
    "y_env = fatigue_df[target]\n",
    "\n",
    "X_train, X_test, y_train, y_test = train_test_split(X_env, y_env, test_size=0.2, random_state=42)\n",
    "\n",
    "# 모델 학습\n",
    "model_env = CatBoostRegressor(verbose=0, random_state=42)\n",
    "model_env.fit(X_train, y_train)\n"
   ]
  },
  {
   "cell_type": "code",
   "execution_count": 266,
   "metadata": {},
   "outputs": [
    {
     "data": {
      "text/html": [
       "<div>\n",
       "<style scoped>\n",
       "    .dataframe tbody tr th:only-of-type {\n",
       "        vertical-align: middle;\n",
       "    }\n",
       "\n",
       "    .dataframe tbody tr th {\n",
       "        vertical-align: top;\n",
       "    }\n",
       "\n",
       "    .dataframe thead th {\n",
       "        text-align: right;\n",
       "    }\n",
       "</style>\n",
       "<table border=\"1\" class=\"dataframe\">\n",
       "  <thead>\n",
       "    <tr style=\"text-align: right;\">\n",
       "      <th></th>\n",
       "      <th>변수</th>\n",
       "      <th>SHAP_중요도</th>\n",
       "      <th>가중치</th>\n",
       "    </tr>\n",
       "  </thead>\n",
       "  <tbody>\n",
       "    <tr>\n",
       "      <th>0</th>\n",
       "      <td>누적이동거리_z</td>\n",
       "      <td>0.473886</td>\n",
       "      <td>0.420906</td>\n",
       "    </tr>\n",
       "    <tr>\n",
       "      <th>1</th>\n",
       "      <td>Temp_z</td>\n",
       "      <td>0.488500</td>\n",
       "      <td>0.433886</td>\n",
       "    </tr>\n",
       "    <tr>\n",
       "      <th>2</th>\n",
       "      <td>Venue_bin_z</td>\n",
       "      <td>0.163485</td>\n",
       "      <td>0.145208</td>\n",
       "    </tr>\n",
       "  </tbody>\n",
       "</table>\n",
       "</div>"
      ],
      "text/plain": [
       "            변수  SHAP_중요도       가중치\n",
       "0     누적이동거리_z  0.473886  0.420906\n",
       "1       Temp_z  0.488500  0.433886\n",
       "2  Venue_bin_z  0.163485  0.145208"
      ]
     },
     "metadata": {},
     "output_type": "display_data"
    }
   ],
   "source": [
    "explainer = shap.Explainer(model_env)\n",
    "shap_values = explainer(X_train)\n",
    "\n",
    "# 평균 절댓값 기준 SHAP 중요도\n",
    "shap_importance = np.abs(shap_values.values).mean(axis=0)\n",
    "\n",
    "# 결과 정리\n",
    "env_importance_df = pd.DataFrame({\n",
    "    '변수': env_z_cols,\n",
    "    'SHAP_중요도': shap_importance\n",
    "})\n",
    "env_importance_df['가중치'] = env_importance_df['SHAP_중요도'] / env_importance_df['SHAP_중요도'].sum()\n",
    "\n",
    "display(env_importance_df)\n"
   ]
  },
  {
   "cell_type": "code",
   "execution_count": 267,
   "metadata": {},
   "outputs": [],
   "source": [
    "fatigue_df['환경지수'] = (\n",
    "    0.433886 * fatigue_df['Temp_z'] +\n",
    "    0.420906 * fatigue_df['누적이동거리_z'] +\n",
    "    0.145208 * fatigue_df['Venue_bin_z']\n",
    ")"
   ]
  },
  {
   "cell_type": "markdown",
   "metadata": {},
   "source": [
    "### 기량지수 z-score, SHAP 가중치"
   ]
  },
  {
   "cell_type": "code",
   "execution_count": 268,
   "metadata": {},
   "outputs": [],
   "source": [
    "from sklearn.preprocessing import StandardScaler\n",
    "\n",
    "skill_vars = ['ERA', 'WHIP', '직구_피안타율']\n",
    "\n",
    "# 표준화 실행\n",
    "scaler = StandardScaler()\n",
    "skill_z = scaler.fit_transform(fatigue_df[skill_vars])\n",
    "\n",
    "# z-score 결과를 붙이기\n",
    "skill_z_df = pd.DataFrame(skill_z, columns=[f\"{col}_z\" for col in skill_vars])\n",
    "fatigue_df = pd.concat([fatigue_df.reset_index(drop=True), skill_z_df], axis=1)\n"
   ]
  },
  {
   "cell_type": "code",
   "execution_count": 269,
   "metadata": {},
   "outputs": [
    {
     "data": {
      "text/plain": [
       "<catboost.core.CatBoostRegressor at 0x162d78410>"
      ]
     },
     "execution_count": 269,
     "metadata": {},
     "output_type": "execute_result"
    }
   ],
   "source": [
    "from sklearn.model_selection import train_test_split\n",
    "from catboost import CatBoostRegressor\n",
    "import shap\n",
    "\n",
    "# 1. 타깃 & 피처 설정\n",
    "target = 'delta_GSv2'  # 예시 타깃\n",
    "skill_cols = ['ERA_z', 'WHIP_z', '직구_피안타율_z']\n",
    "\n",
    "X = fatigue_df[skill_cols]\n",
    "y = fatigue_df[target]\n",
    "\n",
    "# 2. train/test 분할\n",
    "X_train, X_test, y_train, y_test = train_test_split(X, y, test_size=0.2, random_state=42)\n",
    "\n",
    "# 3. CatBoost 회귀 모델 학습\n",
    "model = CatBoostRegressor(verbose=0, random_state=42)\n",
    "model.fit(X_train, y_train)"
   ]
  },
  {
   "cell_type": "code",
   "execution_count": 270,
   "metadata": {},
   "outputs": [
    {
     "data": {
      "text/html": [
       "<div>\n",
       "<style scoped>\n",
       "    .dataframe tbody tr th:only-of-type {\n",
       "        vertical-align: middle;\n",
       "    }\n",
       "\n",
       "    .dataframe tbody tr th {\n",
       "        vertical-align: top;\n",
       "    }\n",
       "\n",
       "    .dataframe thead th {\n",
       "        text-align: right;\n",
       "    }\n",
       "</style>\n",
       "<table border=\"1\" class=\"dataframe\">\n",
       "  <thead>\n",
       "    <tr style=\"text-align: right;\">\n",
       "      <th></th>\n",
       "      <th>변수</th>\n",
       "      <th>SHAP_중요도</th>\n",
       "      <th>가중치</th>\n",
       "    </tr>\n",
       "  </thead>\n",
       "  <tbody>\n",
       "    <tr>\n",
       "      <th>0</th>\n",
       "      <td>ERA_z</td>\n",
       "      <td>1.645411</td>\n",
       "      <td>0.341328</td>\n",
       "    </tr>\n",
       "    <tr>\n",
       "      <th>1</th>\n",
       "      <td>WHIP_z</td>\n",
       "      <td>2.635053</td>\n",
       "      <td>0.546622</td>\n",
       "    </tr>\n",
       "    <tr>\n",
       "      <th>2</th>\n",
       "      <td>직구_피안타율_z</td>\n",
       "      <td>0.540150</td>\n",
       "      <td>0.112050</td>\n",
       "    </tr>\n",
       "  </tbody>\n",
       "</table>\n",
       "</div>"
      ],
      "text/plain": [
       "          변수  SHAP_중요도       가중치\n",
       "0      ERA_z  1.645411  0.341328\n",
       "1     WHIP_z  2.635053  0.546622\n",
       "2  직구_피안타율_z  0.540150  0.112050"
      ]
     },
     "metadata": {},
     "output_type": "display_data"
    }
   ],
   "source": [
    "import shap\n",
    "import numpy as np\n",
    "import pandas as pd\n",
    "\n",
    "# 1. SHAP explainer 생성 및 값 계산\n",
    "explainer = shap.Explainer(model)\n",
    "shap_values = explainer(X_train)\n",
    "\n",
    "# 2. 변수별 SHAP 중요도 = 평균 절댓값\n",
    "shap_importance = np.abs(shap_values.values).mean(axis=0)\n",
    "\n",
    "# 3. 중요도 정리\n",
    "importance_df = pd.DataFrame({\n",
    "    '변수': X_train.columns,\n",
    "    'SHAP_중요도': shap_importance\n",
    "})\n",
    "importance_df['가중치'] = importance_df['SHAP_중요도'] / importance_df['SHAP_중요도'].sum()\n",
    "\n",
    "# 결과 확인\n",
    "display(importance_df)"
   ]
  },
  {
   "cell_type": "code",
   "execution_count": 271,
   "metadata": {},
   "outputs": [],
   "source": [
    "# SHAP 기반 기량지수 계산\n",
    "fatigue_df['기량지수'] = (\n",
    "    0.341328 * fatigue_df['ERA_z'] +\n",
    "    0.546622 * fatigue_df['WHIP_z'] +\n",
    "    0.112050 * fatigue_df['직구_피안타율_z']\n",
    ")"
   ]
  },
  {
   "cell_type": "code",
   "execution_count": null,
   "metadata": {},
   "outputs": [],
   "source": []
  }
 ],
 "metadata": {
  "kernelspec": {
   "display_name": "venv",
   "language": "python",
   "name": "python3"
  },
  "language_info": {
   "codemirror_mode": {
    "name": "ipython",
    "version": 3
   },
   "file_extension": ".py",
   "mimetype": "text/x-python",
   "name": "python",
   "nbconvert_exporter": "python",
   "pygments_lexer": "ipython3",
   "version": "3.11.12"
  }
 },
 "nbformat": 4,
 "nbformat_minor": 2
}
